{
  "nbformat": 4,
  "nbformat_minor": 0,
  "metadata": {
    "colab": {
      "provenance": []
    },
    "kernelspec": {
      "name": "python3",
      "display_name": "Python 3"
    },
    "language_info": {
      "name": "python"
    }
  },
  "cells": [
    {
      "cell_type": "code",
      "execution_count": null,
      "metadata": {
        "id": "JdtcmONFsipC"
      },
      "outputs": [],
      "source": [
        "import matplotlib.pyplot as plt\n",
        "import seaborn as sns\n",
        "import numpy as np\n",
        "import pandas as pd\n",
        "\n",
        "\n",
        "def load_csv(path) -> pd.DataFrame:\n",
        "    \"\"\"pandas를 이용하여 path의 데이터를 DataFrame의 형태로 불러오는 함수입니다.\"\"\"\n",
        "\n",
        "    df = pd.read_csv(path)\n",
        "    return df\n",
        "\n",
        "\n",
        "def get_counts(df: pd.DataFrame) -> pd.Series:\n",
        "    \"\"\"df의 음식점별 값의 수를 구하여 반환합니다.\"\"\"\n",
        "\n",
        "    series_counts = None\n",
        "    return series_counts\n",
        "\n",
        "\n",
        "def get_fat_foods(df: pd.DataFrame) -> pd.DataFrame:\n",
        "    \"\"\"df에서 지시사항의 조건을 만족하는 데이터를 찾아 데이터프레임의 형태로 반환합니다.\"\"\"\n",
        "\n",
        "    df_fat = None\n",
        "    return df_fat\n",
        "\n",
        "\n",
        "def make_hist(df: pd.DataFrame):\n",
        "    \"\"\"matplotlib.pyplot 라이브러리를 이용해 칼로리의 히스토그램을 그립니다.\"\"\"\n",
        "\n",
        "    None\n",
        "    show_plot(\"hist\")\n",
        "\n",
        "\n",
        "def make_heatmap(df: pd.DataFrame):\n",
        "    \"\"\"df의 상관관계를 구해 seaborn라이브러리를 통해 히트맵을 그립니다.\"\"\"\n",
        "\n",
        "    df_corr = None\n",
        "    show_plot(\"heatmap\")\n",
        "\n",
        "\n",
        "def show_plot(fig_name: str):\n",
        "    \"\"\"그래프를 보여주는 함수입니다.\"\"\"\n",
        "\n",
        "    plt.savefig(fig_name + \".png\")\n",
        "    elice_utils.send_image(fig_name + \".png\")\n",
        "    plt.cla()\n",
        "\n",
        "\n",
        "def main():\n",
        "    # 데이터 파일\n",
        "    data_path = \"data/train.csv\"\n",
        "\n",
        "    df = load_csv(data_path)\n",
        "\n",
        "    # 1. 음식점별 데이터 수 구하기\n",
        "    s_counts = get_counts(df)\n",
        "    print(s_counts)\n",
        "\n",
        "    # 2. 칼로리가 높고 지방이 많은 음식 구하기\n",
        "    df_fat_food = get_fat_foods(df)\n",
        "    print(df_fat_food)\n",
        "\n",
        "    # 3. 히스토그램 그리기\n",
        "    make_hist(df)\n",
        "\n",
        "    # 4. 상관계수 히트맵 그리기\n",
        "    make_heatmap(df)\n",
        "\n",
        "\n",
        "main()"
      ]
    }
  ]
}