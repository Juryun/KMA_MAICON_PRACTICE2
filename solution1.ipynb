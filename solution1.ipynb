{
  "nbformat": 4,
  "nbformat_minor": 0,
  "metadata": {
    "colab": {
      "provenance": []
    },
    "kernelspec": {
      "name": "python3",
      "display_name": "Python 3"
    },
    "language_info": {
      "name": "python"
    }
  },
  "cells": [
    {
      "cell_type": "code",
      "execution_count": null,
      "metadata": {
        "id": "JdtcmONFsipC"
      },
      "outputs": [],
      "source": [
        "import matplotlib.pyplot as plt\n",
        "import seaborn as sns\n",
        "import numpy as np\n",
        "import pandas as pd\n",
        "\n",
        "def load_csv(path) -> pd.DataFrame:\n",
        "    \"\"\"pandas를 이용하여 path의 데이터를 DataFrame의 형태로 불러오는 함수입니다.\"\"\"\n",
        "    df = pd.read_csv(path)\n",
        "    return df\n",
        "\n",
        "\n",
        "# 학습 데이터 경로\n",
        "TRAIN_DATA = \"data/cleaned_train.csv\"\n",
        "\n",
        "# 테스트 데이터 경로\n",
        "TEST_DATA = \"data/test.csv\"\n",
        "\n",
        "\n",
        "def main():\n",
        "    # 전체 데이터를 불러옵니다.\n",
        "    df_train = load_csv(TRAIN_DATA)\n",
        "    df_test = load_csv(TEST_DATA)\n",
        "\n",
        "    # 1. 데이터 분리\n",
        "    x_train = df_train.iloc[:, :-1].values  # 학습 데이터 x\n",
        "    y_train = df_train.iloc[:, -1].values  # 학습 데이터 y\n",
        "\n",
        "    # 2. 모델 학습\n",
        "    # 모델 정의\n",
        "    model = None\n",
        "    # 모델 학습\n",
        "    None\n",
        "\n",
        "    # 3. 모델 추론 및 결과 반환\n",
        "    # df_test를 입력하여 예측한 결과\n",
        "    y_pred = None\n",
        "    # df_test에 calories 칼럼 추가하기\n",
        "    df_test['calories'] = y_pred\n",
        "\n",
        "    # 결과 반환(수정금지)\n",
        "    return df_test\n",
        "\n",
        "\n",
        "main()"
      ]
    }
  ]
}