{
  "nbformat": 4,
  "nbformat_minor": 0,
  "metadata": {
    "colab": {
      "provenance": []
    },
    "kernelspec": {
      "name": "python3",
      "display_name": "Python 3"
    },
    "language_info": {
      "name": "python"
    }
  },
  "cells": [
    {
      "cell_type": "code",
      "execution_count": null,
      "metadata": {
        "id": "JdtcmONFsipC"
      },
      "outputs": [],
      "source": [
        "import pandas as pd\n",
        "\n",
        "def load_csv(path):\n",
        "    \"\"\"pandas를 이용하여 데이터를 DataFrame의 형태로 불러와 반환합니다.\"\"\"\n",
        "\n",
        "    df = pd.read_csv(path)\n",
        "    return df\n",
        "\n",
        "\n",
        "def drop_columns(df: pd.DataFrame) -> pd.DataFrame:\n",
        "    \"\"\"df에서 \"vit_a\", \"vit_c\", \"calcium\" 열을 제거합니다.\"\"\"\n",
        "\n",
        "    df = None\n",
        "    return df\n",
        "\n",
        "\n",
        "def drop_nan(df: pd.DataFrame) -> pd.DataFrame:\n",
        "    \"\"\"df에서 결측치가 존재하는 행을 모두 제거하여 반환합니다.\"\"\"\n",
        "\n",
        "    df = None\n",
        "    return df\n",
        "\n",
        "\n",
        "def label_encoding(series: pd.Series) -> pd.Series:\n",
        "    \"\"\"범주형 데이터를 시리즈 형태로 받아 숫자형 데이터로 변환합니다.\"\"\"\n",
        "    series, _ = None\n",
        "    return series\n",
        "\n",
        "\n",
        "def main():\n",
        "    # 데이터 파일\n",
        "    data_path = \"data/train.csv\"\n",
        "\n",
        "    df = load_csv(data_path)\n",
        "    print(\"= 원본 데이터 =\")\n",
        "    df.info()\n",
        "\n",
        "    # 1. 칼럼 제거하기\n",
        "    df = drop_columns(df)\n",
        "    print(\"= 칼럼이 제거된 데이터 =\")\n",
        "    df.info()\n",
        "\n",
        "    # 2. 결측치 제거하기\n",
        "    df = drop_nan(df)\n",
        "    print(\"= 결측치가 제거된 데이터 =\")\n",
        "    df.info()\n",
        "\n",
        "    # 3. 레이블 인코딩\n",
        "    for col in [\"restaurant\", \"item\"]:\n",
        "        df[col] = label_encoding(df[col])\n",
        "    print(\"= 레이블 인코딩된 데이터 =\")\n",
        "    print(df)\n",
        "\n",
        "\n",
        "main()"
      ]
    }
  ]
}